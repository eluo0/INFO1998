{
 "cells": [
  {
   "cell_type": "markdown",
   "metadata": {},
   "source": [
    "# Introduction: Fundamentals of Python and Numpy"
   ]
  },
  {
   "cell_type": "markdown",
   "metadata": {},
   "source": [
    "Lecture 1 | September 23, 2020"
   ]
  },
  {
   "cell_type": "markdown",
   "metadata": {},
   "source": [
    "<b>NetID</b>: el685"
   ]
  },
  {
   "cell_type": "markdown",
   "metadata": {},
   "source": [
    "___"
   ]
  },
  {
   "cell_type": "markdown",
   "metadata": {
    "colab_type": "text",
    "id": "s_BfwBih7c2q"
   },
   "source": [
    "## The Basics"
   ]
  },
  {
   "cell_type": "code",
   "execution_count": 1,
   "metadata": {
    "colab": {},
    "colab_type": "code",
    "id": "yh4XhqrQ7c2r"
   },
   "outputs": [],
   "source": [
    "# This is a comment"
   ]
  },
  {
   "cell_type": "code",
   "execution_count": 2,
   "metadata": {
    "colab": {},
    "colab_type": "code",
    "id": "9zs24wEK7c2u"
   },
   "outputs": [],
   "source": [
    "# Creating Variables\n",
    "var1 = 'Hello World'"
   ]
  },
  {
   "cell_type": "code",
   "execution_count": 3,
   "metadata": {
    "colab": {},
    "colab_type": "code",
    "id": "EhipKNzt7c2w",
    "outputId": "b823f8a6-eb0e-4bdf-84ad-c61bba8697bb"
   },
   "outputs": [
    {
     "data": {
      "text/plain": [
       "'Hello World'"
      ]
     },
     "execution_count": 3,
     "metadata": {},
     "output_type": "execute_result"
    }
   ],
   "source": [
    "# You can print in Jupyter Notebooks without a print statement.\n",
    "var1"
   ]
  },
  {
   "cell_type": "code",
   "execution_count": 5,
   "metadata": {
    "colab": {},
    "colab_type": "code",
    "id": "nzBMRxN17c21",
    "outputId": "54646a10-a7ea-4c8d-bd6a-4506feb53f7f"
   },
   "outputs": [
    {
     "name": "stdout",
     "output_type": "stream",
     "text": [
      "Hello World\n"
     ]
    }
   ],
   "source": [
    "# Or with one if it is not the last line\n",
    "# Question: if using print command, the printed variable would be a string or other type?\n",
    "print(var1)"
   ]
  },
  {
   "cell_type": "code",
   "execution_count": 7,
   "metadata": {
    "colab": {},
    "colab_type": "code",
    "id": "iAfWDcIm7c24"
   },
   "outputs": [],
   "source": [
    "# Lets talk about lists\n",
    "list1 = [0,1,2,3,4,5,6,7,8,9]"
   ]
  },
  {
   "cell_type": "code",
   "execution_count": 8,
   "metadata": {
    "colab": {},
    "colab_type": "code",
    "id": "op0osqnC7c26",
    "outputId": "7976c3a2-afb8-4b9b-90c9-930b36f1f36e"
   },
   "outputs": [
    {
     "name": "stdout",
     "output_type": "stream",
     "text": [
      "fifth index 5\n",
      "4 Through 7 [4, 5, 6, 7]\n",
      "Before [0, 1, 2, 3, 4, 5, 6, 7, 8, 9]\n",
      "After [0, 1, 2, 3, 4, 5, 6, 7, 8, 9, 10]\n"
     ]
    }
   ],
   "source": [
    "print('fifth index', list1[5])\n",
    "\n",
    "print(\"4 Through 7\", list1[4:8])\n",
    "\n",
    "print(\"Before\", list1)\n",
    "\n",
    "list1.append(10)\n",
    "\n",
    "print(\"After\", list1)"
   ]
  },
  {
   "cell_type": "code",
   "execution_count": 9,
   "metadata": {
    "colab": {},
    "colab_type": "code",
    "id": "LJQ8ByYq7c2_",
    "outputId": "7c288064-f948-42b2-c110-5cef13256996"
   },
   "outputs": [
    {
     "name": "stdout",
     "output_type": "stream",
     "text": [
      "1 is odd\n",
      "2 is even\n",
      "3 is odd\n",
      "4 is even\n",
      "5 is odd\n",
      "6 is even\n",
      "7 is odd\n",
      "8 is even\n",
      "9 is odd\n"
     ]
    }
   ],
   "source": [
    "# for loops and if statments are made very easy in python, just follow this example\n",
    "newArray = [1,2,3,4,5,6,7,8,9]\n",
    "for x in newArray:\n",
    "    if x%2 == 0:\n",
    "        print(x,'is even')\n",
    "    else:\n",
    "        print(x,'is odd')"
   ]
  },
  {
   "cell_type": "code",
   "execution_count": 10,
   "metadata": {
    "colab": {},
    "colab_type": "code",
    "id": "QsEPKhei7c3C",
    "outputId": "b4a173f2-1e5d-4eac-9bdf-b143f1dbbebd"
   },
   "outputs": [
    {
     "name": "stdout",
     "output_type": "stream",
     "text": [
      "[0, 2, 4, 6, 8, 10, 12, 14, 16, 18, 20, 22, 24, 26, 28, 30, 32, 34, 36, 38, 40, 42, 44, 46, 48, 50, 52, 54, 56, 58, 60, 62, 64, 66, 68, 70, 72, 74, 76, 78, 80, 82, 84, 86, 88, 90, 92, 94, 96, 98]\n"
     ]
    }
   ],
   "source": [
    "# list comprehention is a little more difficult and isn't necessary, but if you know how to do it, it saves time\n",
    "#Question: an unique format for a list?\n",
    "allEven = [x for x in range(0,100) if x%2==0]\n",
    "print(allEven)"
   ]
  },
  {
   "cell_type": "markdown",
   "metadata": {},
   "source": [
    "____"
   ]
  },
  {
   "cell_type": "markdown",
   "metadata": {
    "colab_type": "text",
    "id": "C-2rEHip7c3G"
   },
   "source": [
    "## Example 1: Put all the multiples of 15 from 1 to 1000 in a list (Save it as a variable called 'multiples_15'): "
   ]
  },
  {
   "cell_type": "code",
   "execution_count": 11,
   "metadata": {
    "colab": {},
    "colab_type": "code",
    "id": "HSzhfhBr7c3G",
    "outputId": "71f5a000-6f71-44fc-be37-1f049d5f17b4"
   },
   "outputs": [
    {
     "name": "stdout",
     "output_type": "stream",
     "text": [
      "[15, 30, 45, 60, 75, 90, 105, 120, 135, 150, 165, 180, 195, 210, 225, 240, 255, 270, 285, 300, 315, 330, 345, 360, 375, 390, 405, 420, 435, 450, 465, 480, 495, 510, 525, 540, 555, 570, 585, 600, 615, 630, 645, 660, 675, 690, 705, 720, 735, 750, 765, 780, 795, 810, 825, 840, 855, 870, 885, 900, 915, 930, 945, 960, 975, 990]\n"
     ]
    }
   ],
   "source": [
    "# The above examples should be helpful in solving this question! Ask a TA for help if you're stuck.\n",
    "\n",
    "multiples_15 = []\n",
    "# YOUR CODE HERE - The most common solution would have 3 lines!\n",
    "for x in range (1,1001):\n",
    "    if x%15 == 0:\n",
    "        multiples_15.append(x)\n",
    "        \n",
    "print(multiples_15)"
   ]
  },
  {
   "cell_type": "markdown",
   "metadata": {},
   "source": [
    "___"
   ]
  },
  {
   "cell_type": "markdown",
   "metadata": {
    "colab_type": "text",
    "id": "pwQdsT6M7c3J"
   },
   "source": [
    "## Introduction to Numpy"
   ]
  },
  {
   "cell_type": "code",
   "execution_count": 12,
   "metadata": {
    "colab": {},
    "colab_type": "code",
    "id": "AcRybyqE7c3K"
   },
   "outputs": [],
   "source": [
    "# Importing Numpy\n",
    "import numpy as np"
   ]
  },
  {
   "cell_type": "code",
   "execution_count": 13,
   "metadata": {
    "colab": {},
    "colab_type": "code",
    "id": "MUawpGDY7c3N"
   },
   "outputs": [],
   "source": [
    "arr1 = np.array([1,2,3]) #seperate with commas"
   ]
  },
  {
   "cell_type": "code",
   "execution_count": 14,
   "metadata": {
    "colab": {},
    "colab_type": "code",
    "id": "BnZWpFG47c3O",
    "outputId": "7d9fb55b-7a8b-41a6-f7ea-cce9ac525062"
   },
   "outputs": [
    {
     "name": "stdout",
     "output_type": "stream",
     "text": [
      "[1 2 3]\n"
     ]
    }
   ],
   "source": [
    "print(arr1)"
   ]
  },
  {
   "cell_type": "code",
   "execution_count": 15,
   "metadata": {
    "colab": {},
    "colab_type": "code",
    "id": "ZjpFUcWz7c3R"
   },
   "outputs": [],
   "source": [
    "arr2 = np.array([[1,2,3],[4,5,6]]) #2d array"
   ]
  },
  {
   "cell_type": "code",
   "execution_count": 16,
   "metadata": {
    "colab": {},
    "colab_type": "code",
    "id": "TdS3f6FI7c3U",
    "outputId": "2a08614f-b9b2-4e74-e692-b56050f5b469"
   },
   "outputs": [
    {
     "name": "stdout",
     "output_type": "stream",
     "text": [
      "[[1 2 3]\n",
      " [4 5 6]]\n"
     ]
    }
   ],
   "source": [
    "print(arr2)"
   ]
  },
  {
   "cell_type": "code",
   "execution_count": 17,
   "metadata": {
    "colab": {},
    "colab_type": "code",
    "id": "rjb1nCSi7c3X",
    "outputId": "f25d4177-0335-4fd7-9135-fa3592802feb"
   },
   "outputs": [
    {
     "data": {
      "text/plain": [
       "(2, 3)"
      ]
     },
     "execution_count": 17,
     "metadata": {},
     "output_type": "execute_result"
    }
   ],
   "source": [
    "arr2.shape #get the shape of the array"
   ]
  },
  {
   "cell_type": "markdown",
   "metadata": {},
   "source": [
    "### Different Ways to Create numpy arrays"
   ]
  },
  {
   "cell_type": "markdown",
   "metadata": {
    "colab_type": "text",
    "id": "t4K-tWOy7c3a"
   },
   "source": [
    "In the code below, we create a number of different sized arrays with different shapes and values.  Numpy has some built in methods (listed below) which help us quickly and easily create multidimensional arrays with pre-filled values.\n",
    "\n",
    "**np.zeros((dimensions))** creates an array of zeros with the specified dimensions\n",
    "\n",
    "**np.full((dimensions), value)** creates an array with the specified dimensions where every element is the specified value\n",
    "\n",
    "**np.random.random(dimensions)** generates an array of random floating-point values between 0 and 1"
   ]
  },
  {
   "cell_type": "code",
   "execution_count": 18,
   "metadata": {
    "colab": {},
    "colab_type": "code",
    "id": "x4iUep9d7c3b",
    "outputId": "b31c2f3e-228b-45b9-f8d8-eabb9a4b8f86"
   },
   "outputs": [
    {
     "name": "stdout",
     "output_type": "stream",
     "text": [
      "[[0. 0. 0. 0.]\n",
      " [0. 0. 0. 0.]\n",
      " [0. 0. 0. 0.]]\n"
     ]
    }
   ],
   "source": [
    "# create a 3x4 array of zeros\n",
    "ex1 = np.zeros((3, 4))      \n",
    "print(ex1)    "
   ]
  },
  {
   "cell_type": "code",
   "execution_count": 19,
   "metadata": {
    "colab": {},
    "colab_type": "code",
    "id": "SK1JosZT7c3f",
    "outputId": "de7e120c-402a-4aca-c28d-85770fef59f1"
   },
   "outputs": [
    {
     "name": "stdout",
     "output_type": "stream",
     "text": [
      "[[9. 9. 9.]\n",
      " [9. 9. 9.]]\n"
     ]
    }
   ],
   "source": [
    "# create a 2x3 array filled with 9.0\n",
    "ex2 = np.full((2,3), 9.0)  \n",
    "print(ex2)   "
   ]
  },
  {
   "cell_type": "code",
   "execution_count": 20,
   "metadata": {
    "colab": {},
    "colab_type": "code",
    "id": "j-fccu7T7c3j",
    "outputId": "63f1e1cc-8a29-4955-e919-1de23883aaf9"
   },
   "outputs": [
    {
     "name": "stdout",
     "output_type": "stream",
     "text": [
      "[[0.20102991 0.27982053 0.26216561]\n",
      " [0.34809443 0.81880238 0.11159959]]\n"
     ]
    }
   ],
   "source": [
    "# create a 2x3 array of random floating-point numbers between 0 and 1\n",
    "ex3 = np.random.random((2,3))\n",
    "print(ex3)    "
   ]
  },
  {
   "cell_type": "code",
   "execution_count": 21,
   "metadata": {
    "colab": {},
    "colab_type": "code",
    "id": "K0f0IJAQ7c3l",
    "outputId": "75a09cff-3fff-41c2-9113-80b301a32d1d"
   },
   "outputs": [
    {
     "data": {
      "text/plain": [
       "array([0.20102991, 0.27982053, 0.26216561])"
      ]
     },
     "execution_count": 21,
     "metadata": {},
     "output_type": "execute_result"
    }
   ],
   "source": [
    "ex3[0] #this first index if the first row"
   ]
  },
  {
   "cell_type": "code",
   "execution_count": 23,
   "metadata": {
    "colab": {},
    "colab_type": "code",
    "id": "4rQuFkww7c3o",
    "outputId": "bb7fa0a3-e343-4dc8-94f8-4724876618d7"
   },
   "outputs": [
    {
     "name": "stdout",
     "output_type": "stream",
     "text": [
      "[[3 4 9 2 2 2 7 8 1 2]\n",
      " [6 1 1 1 6 5 6 4 5 2]\n",
      " [1 5 1 4 8 9 8 3 3 5]\n",
      " [8 8 1 8 9 7 3 8 4 4]\n",
      " [4 8 1 9 9 8 4 6 2 1]]\n"
     ]
    }
   ],
   "source": [
    "ex4 =  np.random.randint(1,10,(5,10)) #(low,high-exclusive,shape)\n",
    "print(ex4)"
   ]
  },
  {
   "cell_type": "code",
   "execution_count": 24,
   "metadata": {
    "colab": {},
    "colab_type": "code",
    "id": "gAaEfSH27c3p",
    "outputId": "39c8082e-57f5-4538-b5f7-c3ffe2ed2846"
   },
   "outputs": [
    {
     "data": {
      "text/plain": [
       "array([1, 5, 1, 4, 8, 9, 8, 3, 3, 5])"
      ]
     },
     "execution_count": 24,
     "metadata": {},
     "output_type": "execute_result"
    }
   ],
   "source": [
    "ex4[2]"
   ]
  },
  {
   "cell_type": "code",
   "execution_count": 25,
   "metadata": {
    "colab": {},
    "colab_type": "code",
    "id": "kKEJAJCJ7c3s",
    "outputId": "1aba22dc-6146-470d-d741-570c08c13e0f"
   },
   "outputs": [
    {
     "data": {
      "text/plain": [
       "4.5"
      ]
     },
     "execution_count": 25,
     "metadata": {},
     "output_type": "execute_result"
    }
   ],
   "source": [
    "np.median(ex4[1])"
   ]
  },
  {
   "cell_type": "markdown",
   "metadata": {},
   "source": [
    "___"
   ]
  },
  {
   "cell_type": "markdown",
   "metadata": {
    "colab_type": "text",
    "collapsed": true,
    "id": "taUqGCrg7c3u"
   },
   "source": [
    "### Mathematical Operations "
   ]
  },
  {
   "cell_type": "code",
   "execution_count": 26,
   "metadata": {
    "colab": {},
    "colab_type": "code",
    "id": "kl5JbxBI7c3u"
   },
   "outputs": [],
   "source": [
    "arr1 = np.array([2,4,6,8,10])"
   ]
  },
  {
   "cell_type": "code",
   "execution_count": 27,
   "metadata": {
    "colab": {},
    "colab_type": "code",
    "id": "Wwbl1BE27c3w",
    "outputId": "d92f7dbf-69d9-4f2f-85cb-6900f83bb690"
   },
   "outputs": [
    {
     "name": "stdout",
     "output_type": "stream",
     "text": [
      "[ 2  4  6  8 10]\n"
     ]
    }
   ],
   "source": [
    "print(arr1)"
   ]
  },
  {
   "cell_type": "code",
   "execution_count": 28,
   "metadata": {
    "colab": {},
    "colab_type": "code",
    "id": "HZB3AAAm7c3y",
    "outputId": "75959530-59b3-4a89-86ee-eb2f06715f78"
   },
   "outputs": [
    {
     "name": "stdout",
     "output_type": "stream",
     "text": [
      "[1.41421356 2.         2.44948974 2.82842712 3.16227766]\n"
     ]
    }
   ],
   "source": [
    "print(np.sqrt(arr1))    "
   ]
  },
  {
   "cell_type": "code",
   "execution_count": 29,
   "metadata": {
    "colab": {},
    "colab_type": "code",
    "id": "keRweGyw7c31",
    "outputId": "0bdc8244-115c-442e-ac98-da08a260245d"
   },
   "outputs": [
    {
     "data": {
      "text/plain": [
       "10"
      ]
     },
     "execution_count": 29,
     "metadata": {},
     "output_type": "execute_result"
    }
   ],
   "source": [
    "np.max(arr1)"
   ]
  },
  {
   "cell_type": "code",
   "execution_count": 30,
   "metadata": {
    "colab": {},
    "colab_type": "code",
    "id": "CAcYvMU77c33",
    "outputId": "ee65e5c6-a599-4a90-d2a8-a7d67e05b0a6"
   },
   "outputs": [
    {
     "data": {
      "text/plain": [
       "2"
      ]
     },
     "execution_count": 30,
     "metadata": {},
     "output_type": "execute_result"
    }
   ],
   "source": [
    "np.min(arr1)"
   ]
  },
  {
   "cell_type": "code",
   "execution_count": 31,
   "metadata": {
    "colab": {},
    "colab_type": "code",
    "id": "rpz1NrvM7c36",
    "outputId": "5ae8278b-be89-42d7-ed51-53ca93550dd9"
   },
   "outputs": [
    {
     "data": {
      "text/plain": [
       "6.0"
      ]
     },
     "execution_count": 31,
     "metadata": {},
     "output_type": "execute_result"
    }
   ],
   "source": [
    "np.median(arr1)"
   ]
  },
  {
   "cell_type": "code",
   "execution_count": 32,
   "metadata": {
    "colab": {},
    "colab_type": "code",
    "id": "Trj3RFSh7c38",
    "outputId": "68b2fc00-1f18-4f3c-e738-24531c5c64e0"
   },
   "outputs": [
    {
     "data": {
      "text/plain": [
       "2.8284271247461903"
      ]
     },
     "execution_count": 32,
     "metadata": {},
     "output_type": "execute_result"
    }
   ],
   "source": [
    "np.std(arr1)"
   ]
  },
  {
   "cell_type": "code",
   "execution_count": 33,
   "metadata": {
    "colab": {},
    "colab_type": "code",
    "id": "aAfcO_qy7c3-",
    "outputId": "a81c546d-1f32-4160-cdc9-f4acf1609665"
   },
   "outputs": [
    {
     "data": {
      "text/plain": [
       "array([ 3,  5,  7,  9, 11])"
      ]
     },
     "execution_count": 33,
     "metadata": {},
     "output_type": "execute_result"
    }
   ],
   "source": [
    "arr1+1"
   ]
  },
  {
   "cell_type": "code",
   "execution_count": 34,
   "metadata": {
    "colab": {},
    "colab_type": "code",
    "id": "odk8-b3C7c4B",
    "outputId": "d351503f-c84f-4fc1-9655-46d5d60d65fd"
   },
   "outputs": [
    {
     "data": {
      "text/plain": [
       "array([ 4,  8, 12, 16, 20])"
      ]
     },
     "execution_count": 34,
     "metadata": {},
     "output_type": "execute_result"
    }
   ],
   "source": [
    "arr1*2"
   ]
  },
  {
   "cell_type": "code",
   "execution_count": 35,
   "metadata": {
    "colab": {},
    "colab_type": "code",
    "id": "cM2Vrcbg7c4D",
    "outputId": "aaca8e5d-5ab9-4b7d-e392-1d3fec18e05b"
   },
   "outputs": [
    {
     "name": "stdout",
     "output_type": "stream",
     "text": [
      "[ 6  8 10]\n"
     ]
    }
   ],
   "source": [
    "print(arr1[2:])"
   ]
  },
  {
   "cell_type": "code",
   "execution_count": 36,
   "metadata": {
    "colab": {},
    "colab_type": "code",
    "id": "IhSYM9-J7c4G",
    "outputId": "c90034e5-afa7-41b9-cfab-99d0b9a9e84c"
   },
   "outputs": [
    {
     "data": {
      "text/plain": [
       "array([1, 2])"
      ]
     },
     "execution_count": 36,
     "metadata": {},
     "output_type": "execute_result"
    }
   ],
   "source": [
    "np.unique(np.array([1,1,1,1,2]))"
   ]
  },
  {
   "cell_type": "code",
   "execution_count": 37,
   "metadata": {
    "colab": {},
    "colab_type": "code",
    "id": "rvehoU3w7c4I"
   },
   "outputs": [],
   "source": [
    "arr2 = np.array([3,6,9,12,15])"
   ]
  },
  {
   "cell_type": "code",
   "execution_count": 38,
   "metadata": {
    "colab": {},
    "colab_type": "code",
    "id": "c5JNwVNx7c4K",
    "outputId": "91855e58-3c05-4b40-ca99-58f6e44f9d18"
   },
   "outputs": [
    {
     "data": {
      "text/plain": [
       "array([ 5, 10, 15, 20, 25])"
      ]
     },
     "execution_count": 38,
     "metadata": {},
     "output_type": "execute_result"
    }
   ],
   "source": [
    "np.add(arr1,arr2)"
   ]
  },
  {
   "cell_type": "code",
   "execution_count": 39,
   "metadata": {
    "colab": {},
    "colab_type": "code",
    "id": "O8Jt17kv7c4O",
    "outputId": "5383e8b8-52b0-477a-90c5-1a6c1b65d998"
   },
   "outputs": [
    {
     "data": {
      "text/plain": [
       "array([ 5, 10, 15, 20, 25])"
      ]
     },
     "execution_count": 39,
     "metadata": {},
     "output_type": "execute_result"
    }
   ],
   "source": [
    "arr1+arr2"
   ]
  },
  {
   "cell_type": "code",
   "execution_count": 40,
   "metadata": {
    "colab": {},
    "colab_type": "code",
    "id": "WEuiNgxM7c4Q",
    "outputId": "bd055084-eeee-4f59-a0eb-290a40af0b38"
   },
   "outputs": [
    {
     "data": {
      "text/plain": [
       "330"
      ]
     },
     "execution_count": 40,
     "metadata": {},
     "output_type": "execute_result"
    }
   ],
   "source": [
    "arr1.dot(arr2)   "
   ]
  },
  {
   "cell_type": "code",
   "execution_count": 41,
   "metadata": {
    "colab": {},
    "colab_type": "code",
    "id": "ml2fA43_7c4T",
    "outputId": "4ddead9e-5c2d-412e-a219-156e973925d1"
   },
   "outputs": [
    {
     "data": {
      "text/plain": [
       "30"
      ]
     },
     "execution_count": 41,
     "metadata": {},
     "output_type": "execute_result"
    }
   ],
   "source": [
    "np.sum(arr1)"
   ]
  },
  {
   "cell_type": "markdown",
   "metadata": {},
   "source": [
    "___"
   ]
  },
  {
   "cell_type": "markdown",
   "metadata": {
    "colab_type": "text",
    "id": "__O0bBXc7c4V"
   },
   "source": [
    "## Example 2: Create an random integer array with a min of 1, max of 10, and shape of (20,10) so 20 rows and 10 columns. Then for each row, sum the random integers and add all the sums to a list called 'random_sums'. "
   ]
  },
  {
   "cell_type": "code",
   "execution_count": 78,
   "metadata": {
    "colab": {},
    "colab_type": "code",
    "id": "qtDoNKi87c4W",
    "outputId": "973b2d44-dad4-4f92-870d-174ceb58c184"
   },
   "outputs": [
    {
     "name": "stdout",
     "output_type": "stream",
     "text": [
      "[59, 45, 57, 50, 53, 54, 36, 41, 45, 52, 47, 42, 30, 53, 48, 43, 50, 51, 49, 44]\n"
     ]
    }
   ],
   "source": [
    "import numpy as np\n",
    "randArray = np.random.randint(1,10,(20,10))\n",
    "random_sums = []\n",
    "for x in range (0,20):\n",
    "    sums = np.sum(randArray[x])\n",
    "    random_sums.append(sums)\n",
    "print(random_sums)"
   ]
  },
  {
   "cell_type": "markdown",
   "metadata": {},
   "source": [
    "___"
   ]
  },
  {
   "cell_type": "markdown",
   "metadata": {
    "colab_type": "text",
    "id": "-qruPhXv7c4Z"
   },
   "source": [
    "## Sets"
   ]
  },
  {
   "cell_type": "code",
   "execution_count": 79,
   "metadata": {
    "colab": {},
    "colab_type": "code",
    "id": "H4meLxQG7c4Z",
    "outputId": "2fc7de22-d0aa-463e-f650-98829bd3ae24"
   },
   "outputs": [
    {
     "name": "stdout",
     "output_type": "stream",
     "text": [
      "array 1: [ 3  4  8  9 13 14 18 19 23 24 28 29 33 34 38 39 43 44 48 49]\n",
      "array 2: [ 4  5  6 11 12 13 18 19 20 25 26 27 32 33 34 39 40 41 46 47 48]\n"
     ]
    }
   ],
   "source": [
    "arr1 = np.array([x for x in range(0,50) if x%5 > 2])\n",
    "arr2 = np.array([x for x in range(0,50) if x%7 > 3])\n",
    "\n",
    "print('array 1:', arr1)\n",
    "print('array 2:', arr2)"
   ]
  },
  {
   "cell_type": "code",
   "execution_count": 80,
   "metadata": {
    "colab": {},
    "colab_type": "code",
    "id": "0QZWwfqJ7c4d",
    "outputId": "d3724e1c-2124-482c-a58f-b4d8b71194ba"
   },
   "outputs": [
    {
     "name": "stdout",
     "output_type": "stream",
     "text": [
      "union: [ 3  4  5  6  8  9 11 12 13 14 18 19 20 23 24 25 26 27 28 29 32 33 34 38\n",
      " 39 40 41 43 44 46 47 48 49]\n"
     ]
    }
   ],
   "source": [
    "union = np.union1d(arr1, arr2) #in either arr1 or arr2\n",
    "print('union:', union)"
   ]
  },
  {
   "cell_type": "code",
   "execution_count": 81,
   "metadata": {
    "colab": {},
    "colab_type": "code",
    "id": "mfc69YIA7c4f",
    "outputId": "be80dcf4-3c8a-462c-b559-e30fe3be0062"
   },
   "outputs": [
    {
     "name": "stdout",
     "output_type": "stream",
     "text": [
      "intersect: [ 4 13 18 19 33 34 39 48]\n"
     ]
    }
   ],
   "source": [
    "intersect = np.intersect1d(arr1, arr2) #in both arr1 and arr2\n",
    "print('intersect:', intersect)"
   ]
  },
  {
   "cell_type": "markdown",
   "metadata": {
    "colab_type": "text",
    "id": "t8_ZdDNw7c4h"
   },
   "source": [
    "## Reshaping"
   ]
  },
  {
   "cell_type": "code",
   "execution_count": 82,
   "metadata": {
    "colab": {},
    "colab_type": "code",
    "id": "pR0ZuRo87c4h",
    "outputId": "69d91e3b-969f-4a81-bd10-88c14115b747"
   },
   "outputs": [
    {
     "name": "stdout",
     "output_type": "stream",
     "text": [
      "[[ 1  2  3  4]\n",
      " [ 5  6  7  8]\n",
      " [ 9 10 11 12]]\n"
     ]
    }
   ],
   "source": [
    "arr1 = np.array([[1,2,3,4],[5,6,7,8],[9,10,11,12]])\n",
    "print(arr1)"
   ]
  },
  {
   "cell_type": "code",
   "execution_count": 83,
   "metadata": {
    "colab": {},
    "colab_type": "code",
    "id": "qKrSoaF97c4k",
    "outputId": "8d4d42b4-410a-4169-e116-55af9f91145b"
   },
   "outputs": [
    {
     "data": {
      "text/plain": [
       "array([[ 1,  2,  3,  4,  5,  6],\n",
       "       [ 7,  8,  9, 10, 11, 12]])"
      ]
     },
     "execution_count": 83,
     "metadata": {},
     "output_type": "execute_result"
    }
   ],
   "source": [
    "arr1.reshape(2, -1) #first number is the number of rows, -1 automatically selects the number that works"
   ]
  },
  {
   "cell_type": "code",
   "execution_count": 84,
   "metadata": {
    "colab": {},
    "colab_type": "code",
    "id": "4tRIRgdi7c4l",
    "outputId": "18a59b4b-5ce2-4cd7-9f63-8c3debf662e7"
   },
   "outputs": [
    {
     "data": {
      "text/plain": [
       "array([[ 1,  5,  9],\n",
       "       [ 2,  6, 10],\n",
       "       [ 3,  7, 11],\n",
       "       [ 4,  8, 12]])"
      ]
     },
     "execution_count": 84,
     "metadata": {},
     "output_type": "execute_result"
    }
   ],
   "source": [
    "np.transpose(arr1) #switches the axis"
   ]
  },
  {
   "cell_type": "markdown",
   "metadata": {},
   "source": [
    "____"
   ]
  },
  {
   "cell_type": "markdown",
   "metadata": {
    "colab_type": "text",
    "id": "mz69azE_7c4o"
   },
   "source": [
    "## Example 3: Find the numbers that are in both 'multiples_15' and 'random_sums' and put them in an array called 'both'."
   ]
  },
  {
   "cell_type": "code",
   "execution_count": 86,
   "metadata": {
    "colab": {},
    "colab_type": "code",
    "id": "rMgDKUaq7c4o",
    "outputId": "10e34d08-d045-48ac-b40f-f0e6847cb845"
   },
   "outputs": [
    {
     "name": "stdout",
     "output_type": "stream",
     "text": [
      "[30 45]\n"
     ]
    }
   ],
   "source": [
    "# YOUR CODE HERE - The most common solution would have just 1 line!\n",
    "both = np.intersect1d(multiples_15, random_sums)\n",
    "print(both)"
   ]
  },
  {
   "cell_type": "markdown",
   "metadata": {},
   "source": [
    "____"
   ]
  },
  {
   "cell_type": "markdown",
   "metadata": {},
   "source": [
    "<b>Final Note</b>: We know that you might not have any experience in Python or Computer Science/Math in general, and that's completely fine. Don't be intimidated - this is a part of the process! Please come to office hours, and one of the instructors would give you a crash course. Additionally, we plan to host a Python workshop soon so that you can bridge the gap, if any. If you still feel underprepared, please come talk to one of the instructors - we will work it out."
   ]
  }
 ],
 "metadata": {
  "colab": {
   "name": "New Lecture 1 Notes.ipynb",
   "provenance": [],
   "version": "0.3.2"
  },
  "kernelspec": {
   "display_name": "Python 3",
   "language": "python",
   "name": "python3"
  },
  "language_info": {
   "codemirror_mode": {
    "name": "ipython",
    "version": 3
   },
   "file_extension": ".py",
   "mimetype": "text/x-python",
   "name": "python",
   "nbconvert_exporter": "python",
   "pygments_lexer": "ipython3",
   "version": "3.8.3"
  },
  "notebookId": "^EG=G=bpDp\\gp"
 },
 "nbformat": 4,
 "nbformat_minor": 1
}
